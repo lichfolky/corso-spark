{
 "cells": [
  {
   "cell_type": "code",
   "execution_count": 1,
   "id": "bd8708c4-00f8-4824-8b9a-b50559a6ee72",
   "metadata": {},
   "outputs": [],
   "source": [
    "from pyspark.sql import SparkSession\n",
    "\n",
    "# Crea una sessione Spark\n",
    "spark = SparkSession.builder.appName(\"hello-spark\").getOrCreate()"
   ]
  },
  {
   "cell_type": "code",
   "execution_count": 4,
   "id": "1f0bcf1a-a3da-436f-8c62-d173209c0c98",
   "metadata": {},
   "outputs": [
    {
     "name": "stdout",
     "output_type": "stream",
     "text": [
      "Righe sul file tobenot.txt: 38\n"
     ]
    }
   ],
   "source": [
    "textFile = spark.read.text(\"files/tobenot.txt\")\n",
    "print(\"Righe sul file tobenot.txt:\", textFile.count())"
   ]
  },
  {
   "cell_type": "code",
   "execution_count": 3,
   "id": "3226ee9e-b312-4212-8db3-2d9c06027f15",
   "metadata": {},
   "outputs": [
    {
     "name": "stdout",
     "output_type": "stream",
     "text": [
      "+-------+---+\n",
      "|   Name|Age|\n",
      "+-------+---+\n",
      "| Mattia| 10|\n",
      "| Arturo| 20|\n",
      "|Barbara| 22|\n",
      "+-------+---+\n",
      "\n"
     ]
    }
   ],
   "source": [
    "# Crea un dataframe\n",
    "data = [(\"Mattia\", 10), (\"Arturo\", 20), (\"Barbara\", 22)]\n",
    "df = spark.createDataFrame(data, [\"Name\", \"Age\"])\n",
    "df.show()\n"
   ]
  },
  {
   "cell_type": "code",
   "execution_count": null,
   "id": "702cef61-f46a-4719-87ee-499e59340f47",
   "metadata": {},
   "outputs": [],
   "source": []
  }
 ],
 "metadata": {
  "kernelspec": {
   "display_name": "Python 3 (ipykernel)",
   "language": "python",
   "name": "python3"
  },
  "language_info": {
   "codemirror_mode": {
    "name": "ipython",
    "version": 3
   },
   "file_extension": ".py",
   "mimetype": "text/x-python",
   "name": "python",
   "nbconvert_exporter": "python",
   "pygments_lexer": "ipython3",
   "version": "3.11.6"
  }
 },
 "nbformat": 4,
 "nbformat_minor": 5
}
